{
 "cells": [
  {
   "cell_type": "code",
   "execution_count": 3,
   "id": "0acef5fa",
   "metadata": {},
   "outputs": [
    {
     "name": "stdout",
     "output_type": "stream",
     "text": [
      "Defaulting to user installation because normal site-packages is not writeable\n",
      "Collecting requests\n",
      "  Downloading requests-2.32.3-py3-none-any.whl.metadata (4.6 kB)\n",
      "Collecting charset-normalizer<4,>=2 (from requests)\n",
      "  Downloading charset_normalizer-3.4.2-cp313-cp313-win_amd64.whl.metadata (36 kB)\n",
      "Collecting idna<4,>=2.5 (from requests)\n",
      "  Downloading idna-3.10-py3-none-any.whl.metadata (10 kB)\n",
      "Collecting urllib3<3,>=1.21.1 (from requests)\n",
      "  Downloading urllib3-2.4.0-py3-none-any.whl.metadata (6.5 kB)\n",
      "Collecting certifi>=2017.4.17 (from requests)\n",
      "  Downloading certifi-2025.4.26-py3-none-any.whl.metadata (2.5 kB)\n",
      "Downloading requests-2.32.3-py3-none-any.whl (64 kB)\n",
      "Downloading certifi-2025.4.26-py3-none-any.whl (159 kB)\n",
      "Downloading charset_normalizer-3.4.2-cp313-cp313-win_amd64.whl (105 kB)\n",
      "Downloading idna-3.10-py3-none-any.whl (70 kB)\n",
      "Downloading urllib3-2.4.0-py3-none-any.whl (128 kB)\n",
      "Installing collected packages: urllib3, idna, charset-normalizer, certifi, requests\n",
      "Successfully installed certifi-2025.4.26 charset-normalizer-3.4.2 idna-3.10 requests-2.32.3 urllib3-2.4.0\n",
      "Note: you may need to restart the kernel to use updated packages.\n"
     ]
    },
    {
     "name": "stderr",
     "output_type": "stream",
     "text": [
      "\n",
      "[notice] A new release of pip is available: 25.0.1 -> 25.1.1\n",
      "[notice] To update, run: C:\\Users\\VVISH\\AppData\\Local\\Microsoft\\WindowsApps\\PythonSoftwareFoundation.Python.3.13_qbz5n2kfra8p0\\python.exe -m pip install --upgrade pip\n"
     ]
    }
   ],
   "source": [
    "pip install requests"
   ]
  },
  {
   "cell_type": "code",
   "execution_count": 4,
   "id": "fa920d66",
   "metadata": {},
   "outputs": [],
   "source": [
    "import requests"
   ]
  },
  {
   "cell_type": "code",
   "execution_count": 7,
   "id": "344a203c",
   "metadata": {},
   "outputs": [],
   "source": [
    "API_URL = \"http://localhost:5000/decompose/\" \n",
    "payload = {\n",
    "    \"model\": \"gemini\",  # or \"gemini\" or \"anthropic\"\n",
    "    \"query\": \"I want to build a portfolio website. What steps should I follow?\"\n",
    "}"
   ]
  },
  {
   "cell_type": "code",
   "execution_count": 8,
   "id": "01ac96c6",
   "metadata": {},
   "outputs": [
    {
     "name": "stdout",
     "output_type": "stream",
     "text": [
      "✅ Response:\n",
      "{'subtask1: Planning & Design': {'step1': 'Define the purpose and target audience of your portfolio.', 'step2': 'Choose a design style and color scheme that reflects your brand.', 'step3': 'Sketch out a website structure and wireframe.', 'step4': 'Select a suitable domain name and hosting provider.'}, 'subtask2: Content Creation': {'step1': 'Gather your best projects and create high-quality images or videos.', 'step2': 'Write compelling descriptions for each project, highlighting your skills and contributions.', 'step3': \"Craft a concise and engaging 'About Me' section.\", 'step4': 'Prepare a professional resume or CV to include.'}, 'subtask3: Website Development': {'step1': 'Choose a website builder (e.g., WordPress, Wix, Squarespace) or use a framework (e.g., React, Angular, Vue).', 'step2': \"Design and develop the website's layout based on your wireframe.\", 'step3': 'Integrate your content (text, images, videos).', 'step4': 'Ensure responsiveness across different devices (desktop, mobile, tablet).'}, 'subtask4: Testing & Launch': {'step1': 'Thoroughly test the website on different browsers and devices.', 'step2': 'Fix any bugs or errors.', 'step3': 'Optimize the website for search engines (SEO).', 'step4': 'Publish your website and promote it through social media or other channels.'}, 'subtask5: Maintenance & Updates': {'step1': 'Regularly update your portfolio with new projects and achievements.', 'step2': 'Monitor website performance and address any issues.', 'step3': \"Keep your website's design and content fresh and up-to-date.\"}}\n"
     ]
    }
   ],
   "source": [
    "response = requests.post(API_URL, json=payload)\n",
    "\n",
    "if response.status_code == 200:\n",
    "    print(\"✅ Response:\")\n",
    "    print(response.json())\n",
    "else:\n",
    "    print(\"❌ Error:\", response.status_code)\n",
    "    print(response.text)"
   ]
  },
  {
   "cell_type": "code",
   "execution_count": null,
   "id": "e3bcc533",
   "metadata": {},
   "outputs": [],
   "source": [
    " "
   ]
  }
 ],
 "metadata": {
  "kernelspec": {
   "display_name": "Python 3",
   "language": "python",
   "name": "python3"
  },
  "language_info": {
   "codemirror_mode": {
    "name": "ipython",
    "version": 3
   },
   "file_extension": ".py",
   "mimetype": "text/x-python",
   "name": "python",
   "nbconvert_exporter": "python",
   "pygments_lexer": "ipython3",
   "version": "3.13.3"
  }
 },
 "nbformat": 4,
 "nbformat_minor": 5
}
